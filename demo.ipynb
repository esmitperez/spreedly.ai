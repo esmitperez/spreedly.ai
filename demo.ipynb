{
 "cells": [
  {
   "attachments": {},
   "cell_type": "markdown",
   "metadata": {},
   "source": [
    "# Spreedly.ai Demo"
   ]
  },
  {
   "attachments": {},
   "cell_type": "markdown",
   "metadata": {},
   "source": [
    "This notebook is \"inspired\" by 🦜⛓️'s OpenAPI [agents](https://python.langchain.com/en/latest/modules/agents/toolkits/examples/openapi.html) and [chains](https://github.com/hwchase17/langchain/blob/master/docs/modules/chains/examples/openapi.ipynb) examples."
   ]
  },
  {
   "attachments": {},
   "cell_type": "markdown",
   "metadata": {},
   "source": [
    "## Requirements\n",
    "\n",
    "- Ensure you have selected the Jupyter-provided `venv`\n",
    "- Remember to run `python3 -m venv venv`\n",
    "- Create a `.env` with the following format:\n",
    "```\n",
    "SPREEDLY_OPEN_API_SPEC_YAML_LOC=path/to/spec.yaml\n",
    "SPREEDLY_ACCESS_TOKEN=<base64 encoded user:pass>\n",
    "OPENAI_API_KEY=<your OPEN AI API KEY>\n",
    "```"
   ]
  },
  {
   "attachments": {},
   "cell_type": "markdown",
   "metadata": {},
   "source": [
    "## Load our API"
   ]
  },
  {
   "cell_type": "code",
   "execution_count": 1,
   "metadata": {},
   "outputs": [],
   "source": [
    "import os, yaml\n",
    "\n",
    "yaml_location =  os.getenv('SPREEDLY_OPEN_API_SPEC_YAML_LOC')\n",
    "with open(yaml_location) as f:\n",
    "    spreedly_openai_api_spec = yaml.load(f, Loader=yaml.Loader)"
   ]
  },
  {
   "cell_type": "code",
   "execution_count": 2,
   "metadata": {},
   "outputs": [],
   "source": [
    "from langchain.requests import RequestsWrapper\n",
    "\n",
    "access_token = os.getenv('SPREEDLY_ACCESS_TOKEN')\n",
    "headers = {\n",
    "        'Authorization': f'Basic {access_token}'\n",
    "    }\n",
    "requests_wrapper = RequestsWrapper(headers=headers)\n",
    "\n",
    "\n"
   ]
  },
  {
   "attachments": {},
   "cell_type": "markdown",
   "metadata": {},
   "source": [
    "Kick the tires, can we instrospect the API?"
   ]
  },
  {
   "cell_type": "code",
   "execution_count": 3,
   "metadata": {},
   "outputs": [
    {
     "data": {
      "text/plain": [
       "'There are 5 endpoints available'"
      ]
     },
     "metadata": {},
     "output_type": "display_data"
    },
    {
     "data": {
      "text/plain": [
       "'Servers are https://core.spreedly.com/v1'"
      ]
     },
     "metadata": {},
     "output_type": "display_data"
    }
   ],
   "source": [
    "endpoints = [\n",
    "    (route, operation)\n",
    "    for route, operations in spreedly_openai_api_spec[\"paths\"].items()\n",
    "    for operation in operations\n",
    "    if operation in [\"get\", \"post\"]\n",
    "]\n",
    "display(f\"There are {len(endpoints)} endpoints available\")\n",
    "\n",
    "display(f\"\"\"Servers are {spreedly_openai_api_spec[\"servers\"][0][\"url\"]}\"\"\")"
   ]
  },
  {
   "attachments": {},
   "cell_type": "markdown",
   "metadata": {},
   "source": [
    "Prepare our objects"
   ]
  },
  {
   "cell_type": "code",
   "execution_count": 4,
   "metadata": {},
   "outputs": [],
   "source": [
    "from langchain.chat_models import ChatOpenAI\n",
    "import planner\n",
    "\n",
    "# relies on OPENAI_API_KEY from .env file.\n",
    "# llm = ChatOpenAI(model_name=\"gpt-4\", temperature=0.0)"
   ]
  },
  {
   "cell_type": "code",
   "execution_count": 5,
   "metadata": {},
   "outputs": [],
   "source": [
    "from langchain.tools import OpenAPISpec, APIOperation\n",
    "from langchain.chains import OpenAPIEndpointChain\n",
    "from langchain.requests import Requests\n",
    "from langchain.llms import OpenAI\n",
    "llm = OpenAI() # Load a Language Model\n",
    "\n"
   ]
  },
  {
   "attachments": {},
   "cell_type": "markdown",
   "metadata": {},
   "source": [
    "# Attempt to chunk the original large YAML...no cigar."
   ]
  },
  {
   "cell_type": "code",
   "execution_count": 6,
   "metadata": {},
   "outputs": [],
   "source": [
    "from langchain import OpenAI, PromptTemplate, LLMChain\n",
    "from langchain.text_splitter import CharacterTextSplitter\n",
    "from langchain.chains.mapreduce import MapReduceChain\n",
    "from langchain.prompts import PromptTemplate\n",
    "import json\n",
    "\n",
    "llm = OpenAI(temperature=0)\n",
    "\n",
    "text_splitter = CharacterTextSplitter(separator = \"\\n\\n\",\n",
    "    chunk_size = 10000,\n",
    "    chunk_overlap  = 0,\n",
    "    length_function = len,)\n",
    "spec = f\"{spreedly_openai_api_spec}\"\n",
    "\n",
    "texts = text_splitter.split_text(spec)\n",
    "\n",
    "from langchain.docstore.document import Document\n",
    "\n",
    "docs = [Document(page_content=t) for t in texts]"
   ]
  },
  {
   "attachments": {},
   "cell_type": "markdown",
   "metadata": {},
   "source": [
    "Sample data"
   ]
  },
  {
   "cell_type": "code",
   "execution_count": 7,
   "metadata": {},
   "outputs": [
    {
     "data": {
      "text/plain": [
       "'https://core.spreedly.com/v1/gateways.json '"
      ]
     },
     "metadata": {},
     "output_type": "display_data"
    }
   ],
   "source": [
    "from langchain.chains.summarize import load_summarize_chain\n",
    "chain = load_summarize_chain(llm, chain_type=\"map_reduce\")\n",
    "# chain.run(docs)\n",
    "\n",
    "endpoint_docs_by_name = {name: docs for name, docs in spreedly_openai_api_spec['paths'].items()}\n",
    "ep = \"/gateways_options.json\"\n",
    "if not endpoint_docs_by_name.get(ep):\n",
    "    raise ValueError(f\"{ep} endpoint does not exist.\")\n",
    "\n",
    "display(f\"\"\"{spreedly_openai_api_spec[\"servers\"][0][\"url\"]}/gateways.json \"\"\")"
   ]
  },
  {
   "attachments": {},
   "cell_type": "markdown",
   "metadata": {},
   "source": [
    "Create Agent and run query"
   ]
  },
  {
   "cell_type": "code",
   "execution_count": 10,
   "metadata": {},
   "outputs": [
    {
     "name": "stdout",
     "output_type": "stream",
     "text": [
      "[\"/gateways_options.json {'get': {'tags': ['Gateways'], 'operationId': 'gateways_options.list', 'summary': 'List supported gateways', 'description': 'Retrieve a list of all gateways, and their properties, supported by Spreedly. This call can be used to dynamically present a gateway credential form to users or to do any sort of dynamic rendering.\\\\n\\\\nNote that this request is publicly available and _does not_ require authorization.\\\\n', 'security': [], 'responses': {'200': {'description': 'List of supported gateways', 'content': {'application/json': {'schema': {'type': 'object', 'properties': {'gateways': {'type': 'array', 'items': {'type': 'object', 'properties': {'gateway_type': {'description': 'The type (short name) of the gateway. Use this value when provisioning a gateway.', 'type': 'string'}, 'name': {'description': 'The human readable name of the gateway', 'type': 'string'}, 'auth_modes': {'description': 'A list of authorization modes for the gateway. An auth mode is basically a list of credentials required for this gateway (some gateways support various ways of entering credentials).', 'type': 'array', 'items': {'type': 'object', 'properties': {'auth_mode_type': {'type': 'string'}, 'name': {'type': 'string'}, 'credentials': {'type': 'object', 'properties': {'name': {'type': 'string'}, 'label': {'type': 'string'}, 'safe': {'type': 'boolean'}, 'large': {'type': 'boolean'}}}}}}, 'characteristics': {'description': 'A list of operations (such as purchase, capture etc…) that the gateway supports', 'type': 'array', 'items': {'type': 'string'}}, 'payment_methods': {'description': 'A list of payment methods (such as credit_card, apple_pay, google_pay, etc…) that the gateway supports', 'type': 'array', 'items': {'type': 'string'}}, 'gateway_specific_fields': {'description': 'The list of gateway specific fields that can be specified in supported gateway transactions', 'type': 'array', 'items': {'type': 'string'}}, 'supported_countries': {'description': 'The list of countries this gateway supports', 'type': 'array', 'items': {'type': 'string'}}, 'supported_cardtypes': {'description': 'The list of credit card brands this gateway supports', 'type': 'array', 'items': {'type': 'string'}}, 'regions': {'description': 'The list of geographic regions this gateway supports (determined by the supported_countries)', 'type': 'array', 'items': {'type': 'string'}}, 'homepage': {'type': 'string'}, 'company_name': {'type': 'string'}}}}}}}}}}}}\", \"/gateways.json {'get': {'operationId': 'gateways.list', 'summary': 'List created gateways', 'description': 'Retrieve an [ordered and paginated](https://docs.spreedly.com/reference/api/v1/?json#order-and-pagination) list of all gateways in the environment. This is different from the list of all supported gateways in that this will only return the gateway instances that have been provisioned in the authenticated environment.', 'tags': ['Gateways'], 'parameters': [{'$ref': '#/components/parameters/order'}, {'$ref': '#/components/parameters/since_token'}], 'responses': {'200': {'description': 'List of created gateways', 'content': {'application/json': {'schema': {'type': 'object', 'properties': {'gateways': {'type': 'array', 'items': {'$ref': '#/components/schemas/gateway'}}}}}}}}}, 'post': {'operationId': 'gateways.create', 'summary': 'Create gateway', 'description': 'Create (provision) a gateway to process card data in the authenticated environment. A test gateway is used to [test your integration](https://docs.spreedly.com/guides/testing/) to Spreedly and can only be used with [test payment methods](https://docs.spreedly.com/reference/test-data/). Production gateways process real card data and transactions. Production gateways are created using the credentials required for that gateway, meaning each call is slightly different depending on the gateway’s API requirements.', 'tags': ['Gateways'], 'requestBody': {'required': True, 'content': {'application/json': {'schema': {'$ref': '#/components/schemas/gateway_create_request'}}}}, 'responses': {'201': {'description': 'Created gateway', 'content': {'application/json': {'schema': {'type': 'object', 'properties': {'gateway': {'$ref': '#/components/schemas/gateway'}}}}}}}}}\", \"/gateways/{gateway_token}.json {'parameters': [{'$ref': '#/components/parameters/gateway_token'}], 'get': {'operationId': 'gateways.show', 'summary': 'Show gateway', 'description': 'Get a gateway with the given token.', 'tags': ['Gateways'], 'responses': {'200': {'description': 'Gateway', 'content': {'application/json': {'schema': {'type': 'object', 'properties': {'gateway': {'$ref': '#/components/schemas/gateway'}}}}}}, '404': {'$ref': '#/components/responses/errors'}}}, 'put': {'operationId': 'gateways.update', 'summary': 'Update a gateway', 'description': 'Updating a redacted gateway’s credentials will set its state back to retained, allowing it to be used for transactions.', 'tags': ['Gateways'], 'requestBody': {'required': True, 'content': {'application/json': {'schema': {'$ref': '#/components/schemas/gateway_update_request'}}}}, 'responses': {'200': {'description': 'Updated gateway', 'content': {'application/json': {'schema': {'type': 'object', 'properties': {'gateway': {'$ref': '#/components/schemas/gateway'}}}}}}, '422': {'$ref': '#/components/responses/errors'}, '404': {'$ref': '#/components/responses/errors'}}}}\", \"/gateways/{gateway_token}/retain.json {'parameters': [{'$ref': '#/components/parameters/gateway_token'}], 'put': {'operationId': 'gateways.retain', 'summary': 'Retain', 'description': 'When gateways are created via the API, they are automatically retained. However, gateways created via the unauthenticated API (e.g., from a browser/javascript library) are created in the “cached” state. Only by retaining a cached gateway will it be saved and available for future use.', 'tags': ['Gateways'], 'responses': {'200': {'$ref': '#/components/responses/transaction'}}}}\", \"/gateways/{gateway_token}/redact.json {'parameters': [{'$ref': '#/components/parameters/gateway_token'}], 'put': {'operationId': 'gateways.redact', 'summary': 'Redact', 'description': 'Redact (strip of any sensitive credentials and make inactive) a provisioned gateway.', 'tags': ['Gateways'], 'responses': {'200': {'$ref': '#/components/responses/transaction'}}}}\", \"/gateways/{gateway_token}/transactions.json {'parameters': [{'$ref': '#/components/parameters/gateway_token'}], 'get': {'operationId': 'gateways.list_transactions', 'summary': 'Transactions', 'description': 'Get an [ordered and paginated](https://docs.spreedly.com/reference/api/v1/?json#order-and-pagination) list of transactions executed against a specific gateway.', 'tags': ['Gateways'], 'parameters': [{'$ref': '#/components/parameters/order'}, {'$ref': '#/components/parameters/since_token'}, {'name': 'state', 'description': 'The transaction state on which to filter the returned list. Can be one of `succeeded`, `failed`, `gateway_processing_failed`, `gateway_processing_result_unknown`.', 'in': 'query', 'schema': {'type': 'string', 'enum': ['succeeded', 'failed', 'gateway_processing_failed', 'gateway_processing_result_unknown']}}], 'responses': {'200': {'description': 'List of transactions', 'content': {'application/json': {'schema': {'type': 'object', 'properties': {'transactions': {'type': 'array', 'items': {'$ref': '#/components/schemas/transaction'}}}}}}}}}}\"]\n",
      "https://core.spreedly.com/v1\n",
      "\n",
      "\n",
      "\u001b[1m> Entering new AgentExecutor chain...\u001b[0m\n",
      "\u001b[32;1m\u001b[1;3mAction: api_planner\n",
      "Action Input: I need to find the right API calls to get a list of supported gateways\u001b[0m\n",
      "Observation: \u001b[36;1m\u001b[1;3m 1. GET /gateways_options.json to retrieve a list of all gateways and their properties.\u001b[0m\n",
      "Thought:\u001b[32;1m\u001b[1;3m I'm ready to execute the API calls.\n",
      "Action: api_controller\n",
      "Action Input: GET /gateways_options.json to retrieve a list of all gateways and their properties.\u001b[0m\n",
      "\n",
      "\u001b[1m> Entering new AgentExecutor chain...\u001b[0m\n",
      "\u001b[32;1m\u001b[1;3mI need to use the requests_get tool to make a GET request to the /gateways_options.json endpoint.\n",
      "Action: requests_get\n",
      "Action Input: \n",
      "{\n",
      "  \"url\": \"https://core.spreedly.com/v1/gateways_options.json\",\n",
      "  \"params\": {},\n",
      "  \"output_instructions\": \"Extract ids and names for the gateways returned in the response\"\n",
      "}\u001b[0m\n",
      "Observation: \u001b[36;1m\u001b[1;3mAcapture (gateway_type: acapture), Adyen (gateway_type: adyen), Airwallex (gateway_type: airwallex), Alelo (gateway_type: alelo)\u001b[0m\n",
      "Thought:\u001b[32;1m\u001b[1;3mI have retrieved the list of gateways and their properties.\n",
      "Final Answer: The final output from executing the plan is a list of gateways and their properties, including ids and names for each gateway.\u001b[0m\n",
      "\n",
      "\u001b[1m> Finished chain.\u001b[0m\n",
      "\n",
      "Observation: \u001b[33;1m\u001b[1;3mThe final output from executing the plan is a list of gateways and their properties, including ids and names for each gateway.\u001b[0m\n",
      "Thought:\u001b[32;1m\u001b[1;3m I am finished executing a plan and have the information the user asked for.\n",
      "Final Answer: A list of gateways and their properties, including ids and names for each gateway.\u001b[0m\n",
      "\n",
      "\u001b[1m> Finished chain.\u001b[0m\n"
     ]
    },
    {
     "data": {
      "text/plain": [
       "'A list of gateways and their properties, including ids and names for each gateway.'"
      ]
     },
     "execution_count": 10,
     "metadata": {},
     "output_type": "execute_result"
    }
   ],
   "source": [
    "spreedly_agent = planner.create_openapi_agent(spreedly_openai_api_spec, requests_wrapper, llm)\n",
    "user_query = \"Get me a list of supported gateways\"\n",
    "\n",
    "spreedly_agent.run(user_query)"
   ]
  }
 ],
 "metadata": {
  "kernelspec": {
   "display_name": "Python 3",
   "language": "python",
   "name": "python3"
  },
  "language_info": {
   "codemirror_mode": {
    "name": "ipython",
    "version": 3
   },
   "file_extension": ".py",
   "mimetype": "text/x-python",
   "name": "python",
   "nbconvert_exporter": "python",
   "pygments_lexer": "ipython3",
   "version": "3.11.3"
  },
  "orig_nbformat": 4
 },
 "nbformat": 4,
 "nbformat_minor": 2
}
