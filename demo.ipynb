{
 "cells": [
  {
   "attachments": {},
   "cell_type": "markdown",
   "metadata": {},
   "source": [
    "# Spreedly.ai - API + LLM Demo"
   ]
  },
  {
   "attachments": {},
   "cell_type": "markdown",
   "metadata": {},
   "source": [
    "This notebook is \"inspired\" by 🦜⛓️'s OpenAPI [agents](https://python.langchain.com/en/latest/modules/agents/toolkits/examples/openapi.html) and [chains](https://github.com/hwchase17/langchain/blob/master/docs/modules/chains/examples/openapi.ipynb) examples."
   ]
  },
  {
   "attachments": {},
   "cell_type": "markdown",
   "metadata": {},
   "source": [
    "## Requirements\n",
    "\n",
    "- Ensure you have selected the Jupyter-provided `venv`\n",
    "- Remember to run `python3 -m venv venv`\n",
    "- Create a `.env` with the following format:\n",
    "```\n",
    "SPREEDLY_OPEN_API_SPEC_YAML_LOC=path/to/spec.yaml\n",
    "SPREEDLY_ACCESS_TOKEN=<base64 encoded user:pass>\n",
    "OPENAI_API_KEY=<your OPEN AI API KEY>\n",
    "```"
   ]
  },
  {
   "attachments": {},
   "cell_type": "markdown",
   "metadata": {},
   "source": [
    "## Load Spreedly API Spec"
   ]
  },
  {
   "cell_type": "code",
   "execution_count": 1,
   "metadata": {},
   "outputs": [
    {
     "ename": "TypeError",
     "evalue": "expected str, bytes or os.PathLike object, not NoneType",
     "output_type": "error",
     "traceback": [
      "\u001b[0;31m---------------------------------------------------------------------------\u001b[0m",
      "\u001b[0;31mTypeError\u001b[0m                                 Traceback (most recent call last)",
      "Cell \u001b[0;32mIn[1], line 5\u001b[0m\n\u001b[1;32m      2\u001b[0m \u001b[39mfrom\u001b[39;00m \u001b[39mlangchain\u001b[39;00m\u001b[39m.\u001b[39;00m\u001b[39magents\u001b[39;00m\u001b[39m.\u001b[39;00m\u001b[39magent_toolkits\u001b[39;00m\u001b[39m.\u001b[39;00m\u001b[39mopenapi\u001b[39;00m\u001b[39m.\u001b[39;00m\u001b[39mspec\u001b[39;00m \u001b[39mimport\u001b[39;00m reduce_openapi_spec\n\u001b[1;32m      4\u001b[0m yaml_location \u001b[39m=\u001b[39m  os\u001b[39m.\u001b[39mgetenv(\u001b[39m'\u001b[39m\u001b[39mSPREEDLY_OPEN_API_SPEC_YAML_LOC\u001b[39m\u001b[39m'\u001b[39m)\n\u001b[0;32m----> 5\u001b[0m \u001b[39mwith\u001b[39;00m \u001b[39mopen\u001b[39;49m(yaml_location) \u001b[39mas\u001b[39;00m f:\n\u001b[1;32m      6\u001b[0m     raw_spreedly_openai_api_spec \u001b[39m=\u001b[39m yaml\u001b[39m.\u001b[39mload(f, Loader\u001b[39m=\u001b[39myaml\u001b[39m.\u001b[39mLoader)\n\u001b[1;32m      8\u001b[0m spreedly_openai_api_spec \u001b[39m=\u001b[39m reduce_openapi_spec(raw_spreedly_openai_api_spec)\n",
      "File \u001b[0;32m/usr/local/lib/python3.10/site-packages/IPython/core/interactiveshell.py:284\u001b[0m, in \u001b[0;36m_modified_open\u001b[0;34m(file, *args, **kwargs)\u001b[0m\n\u001b[1;32m    277\u001b[0m \u001b[39mif\u001b[39;00m file \u001b[39min\u001b[39;00m {\u001b[39m0\u001b[39m, \u001b[39m1\u001b[39m, \u001b[39m2\u001b[39m}:\n\u001b[1;32m    278\u001b[0m     \u001b[39mraise\u001b[39;00m \u001b[39mValueError\u001b[39;00m(\n\u001b[1;32m    279\u001b[0m         \u001b[39mf\u001b[39m\u001b[39m\"\u001b[39m\u001b[39mIPython won\u001b[39m\u001b[39m'\u001b[39m\u001b[39mt let you open fd=\u001b[39m\u001b[39m{\u001b[39;00mfile\u001b[39m}\u001b[39;00m\u001b[39m by default \u001b[39m\u001b[39m\"\u001b[39m\n\u001b[1;32m    280\u001b[0m         \u001b[39m\"\u001b[39m\u001b[39mas it is likely to crash IPython. If you know what you are doing, \u001b[39m\u001b[39m\"\u001b[39m\n\u001b[1;32m    281\u001b[0m         \u001b[39m\"\u001b[39m\u001b[39myou can use builtins\u001b[39m\u001b[39m'\u001b[39m\u001b[39m open.\u001b[39m\u001b[39m\"\u001b[39m\n\u001b[1;32m    282\u001b[0m     )\n\u001b[0;32m--> 284\u001b[0m \u001b[39mreturn\u001b[39;00m io_open(file, \u001b[39m*\u001b[39;49margs, \u001b[39m*\u001b[39;49m\u001b[39m*\u001b[39;49mkwargs)\n",
      "\u001b[0;31mTypeError\u001b[0m: expected str, bytes or os.PathLike object, not NoneType"
     ]
    }
   ],
   "source": [
    "import os, yaml\n",
    "from langchain.agents.agent_toolkits.openapi.spec import reduce_openapi_spec\n",
    "\n",
    "yaml_location =  os.getenv('SPREEDLY_OPEN_API_SPEC_YAML_LOC')\n",
    "with open(yaml_location) as f:\n",
    "    raw_spreedly_openai_api_spec = yaml.load(f, Loader=yaml.Loader)\n",
    "\n",
    "spreedly_openai_api_spec = reduce_openapi_spec(raw_spreedly_openai_api_spec)"
   ]
  },
  {
   "cell_type": "code",
   "execution_count": 2,
   "metadata": {},
   "outputs": [],
   "source": [
    "from langchain.requests import RequestsWrapper\n",
    "\n",
    "access_token = os.getenv('SPREEDLY_ACCESS_TOKEN')\n",
    "headers = {\n",
    "        'Authorization': f'Basic {access_token}'\n",
    "    }\n",
    "requests_wrapper = RequestsWrapper(headers=headers)"
   ]
  },
  {
   "attachments": {},
   "cell_type": "markdown",
   "metadata": {},
   "source": [
    "Kick the tires, can we instrospect the API?"
   ]
  },
  {
   "cell_type": "code",
   "execution_count": null,
   "metadata": {},
   "outputs": [
    {
     "ename": "",
     "evalue": "",
     "output_type": "error",
     "traceback": [
      "\u001b[1;31mRunning cells with '.venv' requires the ipykernel package.\n",
      "\u001b[1;31mRun the following command to install 'ipykernel' into the Python environment. \n",
      "\u001b[1;31mCommand: '/Users/esmit/projs/yapio/scratchpad/.venv/bin/python -m pip install ipykernel -U --force-reinstall'"
     ]
    }
   ],
   "source": [
    "import json\n",
    "\n",
    "endpoints = [\n",
    "    (route, operation)\n",
    "    for route, operations in raw_spreedly_openai_api_spec[\"paths\"].items()\n",
    "    for operation in operations\n",
    "    if operation in [\"get\", \"post\"]\n",
    "]\n",
    "\n",
    "display(f\"There are {len(endpoints)} endpoints available\")\n",
    "\n",
    "display(f\"\"\"Server Base URL: {raw_spreedly_openai_api_spec[\"servers\"][0][\"url\"]}\"\"\")"
   ]
  },
  {
   "attachments": {},
   "cell_type": "markdown",
   "metadata": {},
   "source": [
    "Prepare our objects"
   ]
  },
  {
   "cell_type": "code",
   "execution_count": null,
   "metadata": {},
   "outputs": [
    {
     "ename": "",
     "evalue": "",
     "output_type": "error",
     "traceback": [
      "\u001b[1;31mRunning cells with '.venv' requires the ipykernel package.\n",
      "\u001b[1;31mRun the following command to install 'ipykernel' into the Python environment. \n",
      "\u001b[1;31mCommand: '/Users/esmit/projs/yapio/scratchpad/.venv/bin/python -m pip install ipykernel -U --force-reinstall'"
     ]
    }
   ],
   "source": [
    "from langchain.chat_models import ChatOpenAI\n",
    "from langchain.agents.agent_toolkits.openapi import planner\n",
    "\n",
    "\n",
    "# relies on OPENAI_API_KEY from .env file.\n",
    "llm = ChatOpenAI(model_name=\"gpt-4\", temperature=0.0)"
   ]
  },
  {
   "attachments": {},
   "cell_type": "markdown",
   "metadata": {},
   "source": [
    "Create Agent"
   ]
  },
  {
   "cell_type": "code",
   "execution_count": null,
   "metadata": {},
   "outputs": [
    {
     "ename": "",
     "evalue": "",
     "output_type": "error",
     "traceback": [
      "\u001b[1;31mRunning cells with '.venv' requires the ipykernel package.\n",
      "\u001b[1;31mRun the following command to install 'ipykernel' into the Python environment. \n",
      "\u001b[1;31mCommand: '/Users/esmit/projs/yapio/scratchpad/.venv/bin/python -m pip install ipykernel -U --force-reinstall'"
     ]
    }
   ],
   "source": [
    "spreedly_agent = planner.create_openapi_agent(spreedly_openai_api_spec, requests_wrapper, llm, verbose=True)"
   ]
  },
  {
   "attachments": {},
   "cell_type": "markdown",
   "metadata": {},
   "source": [
    "## List Supported Gateways"
   ]
  },
  {
   "cell_type": "code",
   "execution_count": null,
   "metadata": {},
   "outputs": [
    {
     "ename": "",
     "evalue": "",
     "output_type": "error",
     "traceback": [
      "\u001b[1;31mRunning cells with '.venv' requires the ipykernel package.\n",
      "\u001b[1;31mRun the following command to install 'ipykernel' into the Python environment. \n",
      "\u001b[1;31mCommand: '/Users/esmit/projs/yapio/scratchpad/.venv/bin/python -m pip install ipykernel -U --force-reinstall'"
     ]
    }
   ],
   "source": [
    "user_query = \"List all gateways supported by Spreedly\"\n",
    "\n",
    "spreedly_agent.run(user_query)"
   ]
  },
  {
   "attachments": {},
   "cell_type": "markdown",
   "metadata": {},
   "source": [
    "## Create a gateway (sandbox mode)"
   ]
  },
  {
   "attachments": {},
   "cell_type": "markdown",
   "metadata": {},
   "source": [
    " Some glue code first"
   ]
  },
  {
   "cell_type": "code",
   "execution_count": null,
   "metadata": {},
   "outputs": [
    {
     "ename": "",
     "evalue": "",
     "output_type": "error",
     "traceback": [
      "\u001b[1;31mRunning cells with '.venv' requires the ipykernel package.\n",
      "\u001b[1;31mRun the following command to install 'ipykernel' into the Python environment. \n",
      "\u001b[1;31mCommand: '/Users/esmit/projs/yapio/scratchpad/.venv/bin/python -m pip install ipykernel -U --force-reinstall'"
     ]
    }
   ],
   "source": [
    "%%script false --no-raise-error\n",
    "## Currently disabled.\n",
    "\n",
    "import os\n",
    "\n",
    "adyen_creds = f\"\"\"{{\n",
    "    \"ADYEN_USERNAME\": {os.getenv('ADYEN_USERNAME')},\n",
    "    \"ADYEN_PASSWORD\": {os.getenv('ADYEN_PASSWORD')},\n",
    "    \"ADYEN_MERCHANT_ACCOUNT\": {os.getenv('ADYEN_MERCHANT_ACCOUNT')}\n",
    "}}\n",
    "\"\"\"\n"
   ]
  },
  {
   "attachments": {},
   "cell_type": "markdown",
   "metadata": {},
   "source": [
    "Send the query"
   ]
  },
  {
   "cell_type": "code",
   "execution_count": null,
   "metadata": {},
   "outputs": [
    {
     "ename": "",
     "evalue": "",
     "output_type": "error",
     "traceback": [
      "\u001b[1;31mRunning cells with '.venv' requires the ipykernel package.\n",
      "\u001b[1;31mRun the following command to install 'ipykernel' into the Python environment. \n",
      "\u001b[1;31mCommand: '/Users/esmit/projs/yapio/scratchpad/.venv/bin/python -m pip install ipykernel -U --force-reinstall'"
     ]
    }
   ],
   "source": [
    "%%script false --no-raise-error\n",
    "## Currently disabled.\n",
    "\n",
    "spreedly_agent = planner.create_openapi_agent(spreedly_openai_api_spec, requests_wrapper, llm, verbose=True)\n",
    "\n",
    "user_query =\"Create a new adyen sandbox gateway using these gateway credentials: {adyen_creds}\"\n",
    "\n",
    "spreedly_agent.run(user_query)"
   ]
  }
 ],
 "metadata": {
  "kernelspec": {
   "display_name": "Python 3",
   "language": "python",
   "name": "python3"
  },
  "language_info": {
   "codemirror_mode": {
    "name": "ipython",
    "version": 3
   },
   "file_extension": ".py",
   "mimetype": "text/x-python",
   "name": "python",
   "nbconvert_exporter": "python",
   "pygments_lexer": "ipython3",
   "version": "3.11.3"
  },
  "orig_nbformat": 4
 },
 "nbformat": 4,
 "nbformat_minor": 2
}
